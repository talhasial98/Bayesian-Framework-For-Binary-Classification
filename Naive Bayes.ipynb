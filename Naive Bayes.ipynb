{
  "nbformat": 4,
  "nbformat_minor": 0,
  "metadata": {
    "colab": {
      "name": "NB_TTS(1).ipynb",
      "provenance": [],
      "collapsed_sections": []
    },
    "kernelspec": {
      "name": "python3",
      "display_name": "Python 3"
    }
  },
  "cells": [
    {
      "cell_type": "code",
      "metadata": {
        "colab": {
          "base_uri": "https://localhost:8080/",
          "height": 204
        },
        "id": "8nystzB1kWoM",
        "outputId": "f3f68c05-988f-4b1f-9ca2-4a6a5061424d"
      },
      "source": [
        "import pandas as pd\r\n",
        "import numpy as np\r\n",
        "from sklearn.naive_bayes import GaussianNB\r\n",
        "from sklearn import metrics\r\n",
        "from sklearn.model_selection import cross_val_predict\r\n",
        "import matplotlib.pyplot as plt\r\n",
        "from sklearn.metrics import mean_squared_error\r\n",
        "\r\n",
        "dataset=pd.read_csv('Testing Data Revised.csv')\r\n",
        "dataset.head()"
      ],
      "execution_count": 369,
      "outputs": [
        {
          "output_type": "execute_result",
          "data": {
            "text/html": [
              "<div>\n",
              "<style scoped>\n",
              "    .dataframe tbody tr th:only-of-type {\n",
              "        vertical-align: middle;\n",
              "    }\n",
              "\n",
              "    .dataframe tbody tr th {\n",
              "        vertical-align: top;\n",
              "    }\n",
              "\n",
              "    .dataframe thead th {\n",
              "        text-align: right;\n",
              "    }\n",
              "</style>\n",
              "<table border=\"1\" class=\"dataframe\">\n",
              "  <thead>\n",
              "    <tr style=\"text-align: right;\">\n",
              "      <th></th>\n",
              "      <th>Actor_1</th>\n",
              "      <th>Actor_2</th>\n",
              "      <th>Actor_3</th>\n",
              "      <th>Actor_4</th>\n",
              "      <th>Award</th>\n",
              "    </tr>\n",
              "  </thead>\n",
              "  <tbody>\n",
              "    <tr>\n",
              "      <th>0</th>\n",
              "      <td>Haseena</td>\n",
              "      <td>Shaan</td>\n",
              "      <td>BABAR Ali</td>\n",
              "      <td>Rembo</td>\n",
              "      <td>No</td>\n",
              "    </tr>\n",
              "    <tr>\n",
              "      <th>1</th>\n",
              "      <td>Reema</td>\n",
              "      <td>Saud</td>\n",
              "      <td>Amman</td>\n",
              "      <td>Asif Sheikh</td>\n",
              "      <td>No</td>\n",
              "    </tr>\n",
              "    <tr>\n",
              "      <th>2</th>\n",
              "      <td>Sana</td>\n",
              "      <td>Shaan</td>\n",
              "      <td>Reema</td>\n",
              "      <td>MOAMER RANA</td>\n",
              "      <td>No</td>\n",
              "    </tr>\n",
              "    <tr>\n",
              "      <th>3</th>\n",
              "      <td>NOOR HASSAN</td>\n",
              "      <td>MOAMER RANA</td>\n",
              "      <td>Saima</td>\n",
              "      <td>Saud</td>\n",
              "      <td>No</td>\n",
              "    </tr>\n",
              "    <tr>\n",
              "      <th>4</th>\n",
              "      <td>Saima</td>\n",
              "      <td>Shaan</td>\n",
              "      <td>BABAR Ali</td>\n",
              "      <td>Nirma</td>\n",
              "      <td>No</td>\n",
              "    </tr>\n",
              "  </tbody>\n",
              "</table>\n",
              "</div>"
            ],
            "text/plain": [
              "       Actor_1      Actor_2    Actor_3      Actor_4 Award\n",
              "0      Haseena        Shaan  BABAR Ali        Rembo    No\n",
              "1        Reema         Saud      Amman  Asif Sheikh    No\n",
              "2         Sana        Shaan      Reema  MOAMER RANA    No\n",
              "3  NOOR HASSAN  MOAMER RANA      Saima         Saud    No\n",
              "4        Saima        Shaan  BABAR Ali        Nirma    No"
            ]
          },
          "metadata": {
            "tags": []
          },
          "execution_count": 369
        }
      ]
    },
    {
      "cell_type": "code",
      "metadata": {
        "colab": {
          "base_uri": "https://localhost:8080/"
        },
        "id": "9VVbWY05k15w",
        "outputId": "cadb33c6-6174-405a-c8b5-4bbef1e3d0aa"
      },
      "source": [
        "target=dataset.Award\r\n",
        "target"
      ],
      "execution_count": 370,
      "outputs": [
        {
          "output_type": "execute_result",
          "data": {
            "text/plain": [
              "0       No\n",
              "1       No\n",
              "2       No\n",
              "3       No\n",
              "4       No\n",
              "      ... \n",
              "214    Yes\n",
              "215    Yes\n",
              "216    Yes\n",
              "217    Yes\n",
              "218    Yes\n",
              "Name: Award, Length: 219, dtype: object"
            ]
          },
          "metadata": {
            "tags": []
          },
          "execution_count": 370
        }
      ]
    },
    {
      "cell_type": "code",
      "metadata": {
        "colab": {
          "base_uri": "https://localhost:8080/",
          "height": 419
        },
        "id": "k-5ywQfok1xo",
        "outputId": "02ae7cf1-3b86-4b52-df36-0bb7c2b05336"
      },
      "source": [
        "inputs=dataset.drop('Award',axis=1)\r\n",
        "inputs"
      ],
      "execution_count": 371,
      "outputs": [
        {
          "output_type": "execute_result",
          "data": {
            "text/html": [
              "<div>\n",
              "<style scoped>\n",
              "    .dataframe tbody tr th:only-of-type {\n",
              "        vertical-align: middle;\n",
              "    }\n",
              "\n",
              "    .dataframe tbody tr th {\n",
              "        vertical-align: top;\n",
              "    }\n",
              "\n",
              "    .dataframe thead th {\n",
              "        text-align: right;\n",
              "    }\n",
              "</style>\n",
              "<table border=\"1\" class=\"dataframe\">\n",
              "  <thead>\n",
              "    <tr style=\"text-align: right;\">\n",
              "      <th></th>\n",
              "      <th>Actor_1</th>\n",
              "      <th>Actor_2</th>\n",
              "      <th>Actor_3</th>\n",
              "      <th>Actor_4</th>\n",
              "    </tr>\n",
              "  </thead>\n",
              "  <tbody>\n",
              "    <tr>\n",
              "      <th>0</th>\n",
              "      <td>Haseena</td>\n",
              "      <td>Shaan</td>\n",
              "      <td>BABAR Ali</td>\n",
              "      <td>Rembo</td>\n",
              "    </tr>\n",
              "    <tr>\n",
              "      <th>1</th>\n",
              "      <td>Reema</td>\n",
              "      <td>Saud</td>\n",
              "      <td>Amman</td>\n",
              "      <td>Asif Sheikh</td>\n",
              "    </tr>\n",
              "    <tr>\n",
              "      <th>2</th>\n",
              "      <td>Sana</td>\n",
              "      <td>Shaan</td>\n",
              "      <td>Reema</td>\n",
              "      <td>MOAMER RANA</td>\n",
              "    </tr>\n",
              "    <tr>\n",
              "      <th>3</th>\n",
              "      <td>NOOR HASSAN</td>\n",
              "      <td>MOAMER RANA</td>\n",
              "      <td>Saima</td>\n",
              "      <td>Saud</td>\n",
              "    </tr>\n",
              "    <tr>\n",
              "      <th>4</th>\n",
              "      <td>Saima</td>\n",
              "      <td>Shaan</td>\n",
              "      <td>BABAR Ali</td>\n",
              "      <td>Nirma</td>\n",
              "    </tr>\n",
              "    <tr>\n",
              "      <th>...</th>\n",
              "      <td>...</td>\n",
              "      <td>...</td>\n",
              "      <td>...</td>\n",
              "      <td>...</td>\n",
              "    </tr>\n",
              "    <tr>\n",
              "      <th>214</th>\n",
              "      <td>Ali Zafar</td>\n",
              "      <td>Maya Ali</td>\n",
              "      <td>Javed Sheikh</td>\n",
              "      <td>Faisal Qureshi</td>\n",
              "    </tr>\n",
              "    <tr>\n",
              "      <th>215</th>\n",
              "      <td>Humayun saeed</td>\n",
              "      <td>Fahad Mustafa</td>\n",
              "      <td>Mehwish Hayyat</td>\n",
              "      <td>Ahmed Ali Butt</td>\n",
              "    </tr>\n",
              "    <tr>\n",
              "      <th>216</th>\n",
              "      <td>Mehwish Hayyat</td>\n",
              "      <td>Fahad Mustafa</td>\n",
              "      <td>HANIA AMIR</td>\n",
              "      <td>Mohsin Abbas Haider</td>\n",
              "    </tr>\n",
              "    <tr>\n",
              "      <th>217</th>\n",
              "      <td>Kiran Malik</td>\n",
              "      <td>Sunny Hinduja</td>\n",
              "      <td>Hajra Yamin</td>\n",
              "      <td>Shaista Javani</td>\n",
              "    </tr>\n",
              "    <tr>\n",
              "      <th>218</th>\n",
              "      <td>Bilal Lashari</td>\n",
              "      <td>Shaan</td>\n",
              "      <td>Hamza Ali Abbasi</td>\n",
              "      <td>Shamoon Abbasi</td>\n",
              "    </tr>\n",
              "  </tbody>\n",
              "</table>\n",
              "<p>219 rows × 4 columns</p>\n",
              "</div>"
            ],
            "text/plain": [
              "            Actor_1        Actor_2           Actor_3              Actor_4\n",
              "0           Haseena          Shaan         BABAR Ali                Rembo\n",
              "1             Reema           Saud             Amman          Asif Sheikh\n",
              "2              Sana          Shaan             Reema          MOAMER RANA\n",
              "3       NOOR HASSAN    MOAMER RANA             Saima                 Saud\n",
              "4             Saima          Shaan         BABAR Ali                Nirma\n",
              "..              ...            ...               ...                  ...\n",
              "214       Ali Zafar       Maya Ali      Javed Sheikh       Faisal Qureshi\n",
              "215   Humayun saeed  Fahad Mustafa    Mehwish Hayyat       Ahmed Ali Butt\n",
              "216  Mehwish Hayyat  Fahad Mustafa        HANIA AMIR  Mohsin Abbas Haider\n",
              "217     Kiran Malik  Sunny Hinduja       Hajra Yamin       Shaista Javani\n",
              "218   Bilal Lashari          Shaan  Hamza Ali Abbasi       Shamoon Abbasi\n",
              "\n",
              "[219 rows x 4 columns]"
            ]
          },
          "metadata": {
            "tags": []
          },
          "execution_count": 371
        }
      ]
    },
    {
      "cell_type": "code",
      "metadata": {
        "colab": {
          "base_uri": "https://localhost:8080/"
        },
        "id": "6x5ivmcIk_iP",
        "outputId": "0078186b-680f-4d59-8ed9-0cde78aefbcf"
      },
      "source": [
        "inputs.columns[inputs.isna().any()]\r\n"
      ],
      "execution_count": 372,
      "outputs": [
        {
          "output_type": "execute_result",
          "data": {
            "text/plain": [
              "Index(['Actor_2', 'Actor_3', 'Actor_4'], dtype='object')"
            ]
          },
          "metadata": {
            "tags": []
          },
          "execution_count": 372
        }
      ]
    },
    {
      "cell_type": "code",
      "metadata": {
        "id": "eX84b36FlCc2"
      },
      "source": [
        "inputs['Actor_1'] = inputs['Actor_1'].fillna(value='NA')\r\n",
        "inputs['Actor_2'] = inputs['Actor_2'].fillna(value='NA')\r\n",
        "inputs['Actor_3'] = inputs['Actor_3'].fillna(value='NA')\r\n",
        "inputs['Actor_4'] = inputs['Actor_4'].fillna(value='NA')"
      ],
      "execution_count": 373,
      "outputs": []
    },
    {
      "cell_type": "code",
      "metadata": {
        "id": "LrYe0zCLlFk0"
      },
      "source": [
        "from sklearn.preprocessing import LabelEncoder, OneHotEncoder\r\n",
        "actor1=LabelEncoder()\r\n",
        "actor2=LabelEncoder()\r\n",
        "actor3=LabelEncoder()\r\n",
        "actor4=LabelEncoder()\r\n",
        "\r\n",
        "inputs['Actor_1'] = actor1.fit_transform(inputs['Actor_1'])\r\n",
        "inputs['Actor_2'] = actor2.fit_transform(inputs['Actor_2'].astype(str))\r\n",
        "inputs['Actor_3'] = actor3.fit_transform(inputs['Actor_3'].astype(str))\r\n",
        "inputs['Actor_4'] = actor4.fit_transform(inputs['Actor_4'].astype(str))\r\n"
      ],
      "execution_count": 374,
      "outputs": []
    },
    {
      "cell_type": "code",
      "metadata": {
        "colab": {
          "base_uri": "https://localhost:8080/",
          "height": 419
        },
        "id": "G5d5p2gBqmvp",
        "outputId": "bfcc593b-d3e9-4622-99b7-42f9ee44a740"
      },
      "source": [
        "inputs"
      ],
      "execution_count": 375,
      "outputs": [
        {
          "output_type": "execute_result",
          "data": {
            "text/html": [
              "<div>\n",
              "<style scoped>\n",
              "    .dataframe tbody tr th:only-of-type {\n",
              "        vertical-align: middle;\n",
              "    }\n",
              "\n",
              "    .dataframe tbody tr th {\n",
              "        vertical-align: top;\n",
              "    }\n",
              "\n",
              "    .dataframe thead th {\n",
              "        text-align: right;\n",
              "    }\n",
              "</style>\n",
              "<table border=\"1\" class=\"dataframe\">\n",
              "  <thead>\n",
              "    <tr style=\"text-align: right;\">\n",
              "      <th></th>\n",
              "      <th>Actor_1</th>\n",
              "      <th>Actor_2</th>\n",
              "      <th>Actor_3</th>\n",
              "      <th>Actor_4</th>\n",
              "    </tr>\n",
              "  </thead>\n",
              "  <tbody>\n",
              "    <tr>\n",
              "      <th>0</th>\n",
              "      <td>35</td>\n",
              "      <td>98</td>\n",
              "      <td>33</td>\n",
              "      <td>93</td>\n",
              "    </tr>\n",
              "    <tr>\n",
              "      <th>1</th>\n",
              "      <td>74</td>\n",
              "      <td>97</td>\n",
              "      <td>20</td>\n",
              "      <td>18</td>\n",
              "    </tr>\n",
              "    <tr>\n",
              "      <th>2</th>\n",
              "      <td>91</td>\n",
              "      <td>98</td>\n",
              "      <td>99</td>\n",
              "      <td>68</td>\n",
              "    </tr>\n",
              "    <tr>\n",
              "      <th>3</th>\n",
              "      <td>64</td>\n",
              "      <td>58</td>\n",
              "      <td>112</td>\n",
              "      <td>108</td>\n",
              "    </tr>\n",
              "    <tr>\n",
              "      <th>4</th>\n",
              "      <td>87</td>\n",
              "      <td>98</td>\n",
              "      <td>33</td>\n",
              "      <td>88</td>\n",
              "    </tr>\n",
              "    <tr>\n",
              "      <th>...</th>\n",
              "      <td>...</td>\n",
              "      <td>...</td>\n",
              "      <td>...</td>\n",
              "      <td>...</td>\n",
              "    </tr>\n",
              "    <tr>\n",
              "      <th>214</th>\n",
              "      <td>7</td>\n",
              "      <td>60</td>\n",
              "      <td>55</td>\n",
              "      <td>33</td>\n",
              "    </tr>\n",
              "    <tr>\n",
              "      <th>215</th>\n",
              "      <td>40</td>\n",
              "      <td>31</td>\n",
              "      <td>68</td>\n",
              "      <td>10</td>\n",
              "    </tr>\n",
              "    <tr>\n",
              "      <th>216</th>\n",
              "      <td>58</td>\n",
              "      <td>31</td>\n",
              "      <td>43</td>\n",
              "      <td>77</td>\n",
              "    </tr>\n",
              "    <tr>\n",
              "      <th>217</th>\n",
              "      <td>47</td>\n",
              "      <td>108</td>\n",
              "      <td>45</td>\n",
              "      <td>112</td>\n",
              "    </tr>\n",
              "    <tr>\n",
              "      <th>218</th>\n",
              "      <td>19</td>\n",
              "      <td>98</td>\n",
              "      <td>47</td>\n",
              "      <td>114</td>\n",
              "    </tr>\n",
              "  </tbody>\n",
              "</table>\n",
              "<p>219 rows × 4 columns</p>\n",
              "</div>"
            ],
            "text/plain": [
              "     Actor_1  Actor_2  Actor_3  Actor_4\n",
              "0         35       98       33       93\n",
              "1         74       97       20       18\n",
              "2         91       98       99       68\n",
              "3         64       58      112      108\n",
              "4         87       98       33       88\n",
              "..       ...      ...      ...      ...\n",
              "214        7       60       55       33\n",
              "215       40       31       68       10\n",
              "216       58       31       43       77\n",
              "217       47      108       45      112\n",
              "218       19       98       47      114\n",
              "\n",
              "[219 rows x 4 columns]"
            ]
          },
          "metadata": {
            "tags": []
          },
          "execution_count": 375
        }
      ]
    },
    {
      "cell_type": "code",
      "metadata": {
        "id": "nisgGnLSlIYm"
      },
      "source": [
        "target.replace(('Yes','No'),(1,0),inplace=True)\r\n"
      ],
      "execution_count": 376,
      "outputs": []
    },
    {
      "cell_type": "code",
      "metadata": {
        "colab": {
          "base_uri": "https://localhost:8080/"
        },
        "id": "aq3UENQxFrRQ",
        "outputId": "e57815b7-0c18-4867-da1f-f0c5fad3b5fe"
      },
      "source": [
        "target"
      ],
      "execution_count": 377,
      "outputs": [
        {
          "output_type": "execute_result",
          "data": {
            "text/plain": [
              "0      0\n",
              "1      0\n",
              "2      0\n",
              "3      0\n",
              "4      0\n",
              "      ..\n",
              "214    1\n",
              "215    1\n",
              "216    1\n",
              "217    1\n",
              "218    1\n",
              "Name: Award, Length: 219, dtype: int64"
            ]
          },
          "metadata": {
            "tags": []
          },
          "execution_count": 377
        }
      ]
    },
    {
      "cell_type": "code",
      "metadata": {
        "id": "9CW8oHZ0lLpe"
      },
      "source": [
        "from sklearn.model_selection import train_test_split\r\n",
        "X_train,X_test,y_train,y_test=train_test_split(inputs,target,test_size=0.2,random_state=42)"
      ],
      "execution_count": 378,
      "outputs": []
    },
    {
      "cell_type": "code",
      "metadata": {
        "id": "XYflmBwlSHGS"
      },
      "source": [
        "from sklearn.preprocessing import StandardScaler\r\n",
        "scaler = StandardScaler()\r\n",
        "X_train = scaler.fit_transform(X_train)\r\n",
        "X_test = scaler.transform(X_test)"
      ],
      "execution_count": 379,
      "outputs": []
    },
    {
      "cell_type": "code",
      "metadata": {
        "colab": {
          "base_uri": "https://localhost:8080/"
        },
        "id": "q3WW9MHrtiHG",
        "outputId": "89b60633-3900-4788-acda-9380f4fe5cdf"
      },
      "source": [
        "from sklearn.model_selection import cross_val_score\r\n",
        "cross_val_score"
      ],
      "execution_count": 380,
      "outputs": [
        {
          "output_type": "execute_result",
          "data": {
            "text/plain": [
              "<function sklearn.model_selection._validation.cross_val_score>"
            ]
          },
          "metadata": {
            "tags": []
          },
          "execution_count": 380
        }
      ]
    },
    {
      "cell_type": "markdown",
      "metadata": {
        "id": "EM2_H24ZtThB"
      },
      "source": [
        "# Gaussian NB"
      ]
    },
    {
      "cell_type": "code",
      "metadata": {
        "colab": {
          "base_uri": "https://localhost:8080/"
        },
        "id": "53Q2mNgHRiS6",
        "outputId": "bd6df94a-e956-4f62-ec40-8bc06ed4b369"
      },
      "source": [
        "from sklearn.naive_bayes import GaussianNB\r\n",
        "model=GaussianNB()\r\n",
        "model.fit(X_train,y_train)\r\n",
        "nb_predict=model.predict(X_test)\r\n",
        "Actor_1= input(\"Actor Name        : \")\r\n",
        "Actor_2= input(\"Actor Name        : \")\r\n",
        "Actor_3= input(\"Actor Name        : \")\r\n",
        "#Actor_4= input(\"Actor Name        : \")\r\n",
        "#predict=[49,59,138,84]\r\n",
        "predict=[Actor_1,Actor_2,Actor_3]\r\n",
        "predict[0]=actor1.transform([predict[0]])\r\n",
        "predict[1]=actor2.transform([predict[1]])\r\n",
        "predict[2]=actor3.transform([predict[2]])\r\n",
        "#predict[3]=actor4.transform([predict[3]])\r\n",
        "#predict = scaler.transform(predict)\r\n",
        "prediction=model.predict(predict)\r\n",
        "if prediction.all() == 1:\r\n",
        "    print(\"HIT\")\r\n",
        "else:\r\n",
        "    print(\"FLOP\")\r\n",
        "\r\n",
        "#print(\"                             ACCURACY: {0:.4f}\".format(metrics.accuracy_score(y_test, nb_predict)))\r\n",
        "#\r\n",
        "from sklearn.metrics import confusion_matrix\r\n",
        "#print(model.score(X_test,y_test))\r\n",
        "#cm = confusion_matrix(prediction,y_test)\r\n",
        "#print(cm)\r\n",
        "score_nb=cross_val_score(model,inputs,target,cv=10)\r\n",
        "print(score_nb.mean())\r\n",
        "#print(mean_squared_error(y_test, nb_predict))\r\n",
        "\r\n"
      ],
      "execution_count": 381,
      "outputs": [
        {
          "output_type": "stream",
          "text": [
            "Actor Name        : Shaan\n",
            "Actor Name        : Atif Aslam\n",
            "Actor Name        : Laila\n",
            "HIT\n",
            "0.7166666666666667\n",
            "0.29545454545454547\n"
          ],
          "name": "stdout"
        }
      ]
    },
    {
      "cell_type": "markdown",
      "metadata": {
        "id": "pceTTTEbvSS9"
      },
      "source": [
        "# Logistic Regression"
      ]
    },
    {
      "cell_type": "code",
      "metadata": {
        "colab": {
          "base_uri": "https://localhost:8080/",
          "height": 341
        },
        "id": "RdacGEVivVOJ",
        "outputId": "096aa806-61d2-414e-84cd-b35715591934"
      },
      "source": [
        "from sklearn.linear_model import LogisticRegression\r\n",
        "model_reg = LogisticRegression()\r\n",
        "model_reg.fit(X_train, y_train)\r\n",
        "#lr_predict=model.predict(X_test)\r\n",
        "#Actor_1= input(\"Actor Name        : \")\r\n",
        "#Actor_2= input(\"Actor Name        : \")\r\n",
        "#Actor_3= input(\"Actor Name        : \")\r\n",
        "#Actor_4= input(\"Actor Name        : \")\r\n",
        "#predict=[49,59,138,84]\r\n",
        "#predict=[\"Soha Ali\",\"Atif Aslam\",\"Fawad Khan\",\"Faisal Qureshi\"]\r\n",
        "#predict[0]=actor1.fit_transform([predict[0]])\r\n",
        "##predict[1]=actor2.fit_transform([predict[1]].astype(str))\r\n",
        "##predict[2]=actor3.fit_transform([predict[2]].astype(str))\r\n",
        "#predict[3]=actor4.fit_transform([predict[3]].astype(str))\r\n",
        "#predict1 = scaler.transform(predict)\r\n",
        "#prediction=model_reg.predict(predict)\r\n",
        "#if prediction.all() == 1:\r\n",
        "#    print(\"HIT\")\r\n",
        "#else:\r\n",
        " #   print(\"FLOP\")\r\n",
        "model_reg.predict(X_test)\r\n",
        "#model_reg.score(X_test,y_test)\r\n",
        "from sklearn.metrics import confusion_matrix\r\n",
        "predict_reg=cross_val_predict(model_reg,inputs,target,cv=10)\r\n",
        "cm = confusion_matrix(target, predict_reg)\r\n",
        "#print(lr_predict)\r\n",
        "#print(y_test)\r\n",
        "#print(cm)\r\n",
        "score_lr=cross_val_score(model_reg,inputs,target,cv=10)\r\n",
        "print(score_lr.mean())\r\n",
        "plt.clf()\r\n",
        "plt.imshow(cm, interpolation='nearest', cmap=plt.cm.Wistia)\r\n",
        "classNames = ['Negative','Positive']\r\n",
        "plt.title('Versicolor or Not Versicolor Confusion Matrix - Test Data')\r\n",
        "plt.ylabel('True label')\r\n",
        "plt.xlabel('Predicted label')\r\n",
        "tick_marks = np.arange(len(classNames))\r\n",
        "plt.xticks(tick_marks, classNames, rotation=45)\r\n",
        "plt.yticks(tick_marks, classNames)\r\n",
        "s = [['TN','FP'], ['FN', 'TP']]\r\n",
        "for i in range(2):\r\n",
        "    for j in range(2):\r\n",
        "        plt.text(j,i, str(s[i][j])+\" = \"+str(cm[i][j]))\r\n",
        "plt.show()"
      ],
      "execution_count": 389,
      "outputs": [
        {
          "output_type": "stream",
          "text": [
            "0.946\n"
          ],
          "name": "stdout"
        },
        {
          "output_type": "display_data",
          "data": {
            "image/png": "[encoded data removed]",
            "text/plain": [
              "<Figure size 432x288 with 1 Axes>"
            ]
          },
          "metadata": {
            "tags": [],
            "needs_background": "light"
          }
        }
      ]
    },
    {
      "cell_type": "markdown",
      "metadata": {
        "id": "eYKlJUq5UHiV"
      },
      "source": [
        "# Random Forest Classifer"
      ]
    },
    {
      "cell_type": "code",
      "metadata": {
        "id": "BqNSNlo62OvW",
        "colab": {
          "base_uri": "https://localhost:8080/",
          "height": 341
        },
        "outputId": "d4dc8a3b-298f-4f77-b997-8edb53978113"
      },
      "source": [
        "from sklearn.ensemble import RandomForestClassifier\r\n",
        "from sklearn.datasets import make_classification\r\n",
        "inputs, target = make_classification(n_samples=1000, n_features=4,n_informative=2, n_redundant=0,random_state=0, shuffle=False)\r\n",
        "clf = RandomForestClassifier(max_depth=0.5, random_state=0)\r\n",
        "clf.fit(X_train, y_train)\r\n",
        "#Actor_1= input(\"Actor Name        : \")\r\n",
        "#Actor_2= input(\"Actor Name        : \")\r\n",
        "#Actor_3= input(\"Actor Name        : \")\r\n",
        "#Actor_4= input(\"Actor Name        : \")\r\n",
        "#predict=[49,59,138,84]\r\n",
        "#predict=[\"Soha Ali\",\"Atif Aslam\",\"Fawad Khan\",\"Faisal Qureshi\"]\r\n",
        "#predict[0]=actor1.transform([predict[0]])\r\n",
        "#predict[1]=actor2.transform([predict[1]])\r\n",
        "#predict[2]=actor3.transform([predict[2]])\r\n",
        "#predict[3]=actor4.transform([predict[3]])\r\n",
        "#predict = scaler.transform(predict)\r\n",
        "#print(clf.score(X_test,y_test))\r\n",
        "#clf.predict(predict)\r\n",
        "\r\n",
        "clf_predict=clf.predict(X_test)\r\n",
        "#print(clf.score(X_test,y_test))\r\n",
        "from sklearn.metrics import confusion_matrix\r\n",
        "#print(clf_predict)\r\n",
        "#print(y_test)\r\n",
        "predict_clf=cross_val_predict(clf,inputs,target,cv=10)\r\n",
        "cm = confusion_matrix(target, predict_clf)\r\n",
        "#print(cm)\r\n",
        "score_rfc=cross_val_score(clf,inputs,target,cv=10)\r\n",
        "print(score_rfc.mean())\r\n",
        "plt.clf()\r\n",
        "plt.imshow(cm, interpolation='nearest', cmap=plt.cm.Wistia)\r\n",
        "classNames = ['Negative','Positive']\r\n",
        "plt.title('Versicolor or Not Versicolor Confusion Matrix - Test Data')\r\n",
        "plt.ylabel('True label')\r\n",
        "plt.xlabel('Predicted label')\r\n",
        "tick_marks = np.arange(len(classNames))\r\n",
        "plt.xticks(tick_marks, classNames, rotation=45)\r\n",
        "plt.yticks(tick_marks, classNames)\r\n",
        "s = [['TN','FP'], ['FN', 'TP']]\r\n",
        "for i in range(2):\r\n",
        "    for j in range(2):\r\n",
        "        plt.text(j,i, str(s[i][j])+\" = \"+str(cm[i][j]))\r\n",
        "plt.show()"
      ],
      "execution_count": 390,
      "outputs": [
        {
          "output_type": "stream",
          "text": [
            "0.504\n"
          ],
          "name": "stdout"
        },
        {
          "output_type": "display_data",
          "data": {
            "image/png": "[encoded data removed]",
            "text/plain": [
              "<Figure size 432x288 with 1 Axes>"
            ]
          },
          "metadata": {
            "tags": [],
            "needs_background": "light"
          }
        }
      ]
    },
    {
      "cell_type": "markdown",
      "metadata": {
        "id": "OJu7z7qAHXZ2"
      },
      "source": [
        "# Support Vector Machines"
      ]
    },
    {
      "cell_type": "code",
      "metadata": {
        "id": "ynF3k02fHiXl",
        "colab": {
          "base_uri": "https://localhost:8080/",
          "height": 341
        },
        "outputId": "fc113768-c0fa-401f-e04d-993d85b1164e"
      },
      "source": [
        "from sklearn.svm import LinearSVC\r\n",
        "from sklearn.pipeline import make_pipeline\r\n",
        "from sklearn.preprocessing import StandardScaler\r\n",
        "from sklearn.datasets import make_classification\r\n",
        "X_train,y_train = make_classification(n_features=4, random_state=0)\r\n",
        "svc= make_pipeline(StandardScaler(),LinearSVC(random_state=0, tol=1e-5))\r\n",
        "svc.fit(X_train, y_train)\r\n",
        "\r\n",
        "#Actor_1= input(\"Actor Name        : \")\r\n",
        "#Actor_2= input(\"Actor Name        : \")\r\n",
        "#Actor_3= input(\"Actor Name        : \")\r\n",
        "#Actor_4= input(\"Actor Name        : \")\r\n",
        "#predict=[49,59,138,84]\r\n",
        "#predict=[\"Soha Ali\",\"Atif Aslam\",\"Fawad Khan\",\"Faisal Qureshi\"]\r\n",
        "#predict[0]=actor1.transform([predict[0]])\r\n",
        "#predict[1]=actor2.transform([predict[1]])\r\n",
        "#redict[2]=actor3.transform([predict[2]])\r\n",
        "#predict[3]=actor4.transform([predict[3]])\r\n",
        "#predict = scaler.transform(predict)\r\n",
        "#svc.score(X_test,y_test)\r\n",
        "#prediction=svc.predict(predict)\r\n",
        "#if prediction.all() == 1:\r\n",
        "#    print(\"HIT\")\r\n",
        "#else:\r\n",
        "#    print(\"FLOP\")\r\n",
        "svc_predict=svc.predict(X_test)\r\n",
        "#print(svc.score(X_test,y_test))\r\n",
        "from sklearn.metrics import confusion_matrix\r\n",
        "predict_svc=cross_val_predict(svc,inputs,target,cv=10)\r\n",
        "cm = confusion_matrix(target, predict_svc)\r\n",
        "#print(cm)\r\n",
        "score_svm=cross_val_score(svc,inputs,target,cv=10)\r\n",
        "print(score_svm.mean())\r\n",
        "plt.clf()\r\n",
        "plt.imshow(cm, interpolation='nearest', cmap=plt.cm.Wistia)\r\n",
        "classNames = ['Negative','Positive']\r\n",
        "plt.title('Versicolor or Not Versicolor Confusion Matrix - Test Data')\r\n",
        "plt.ylabel('True label')\r\n",
        "plt.xlabel('Predicted label')\r\n",
        "tick_marks = np.arange(len(classNames))\r\n",
        "plt.xticks(tick_marks, classNames, rotation=45)\r\n",
        "plt.yticks(tick_marks, classNames)\r\n",
        "s = [['TN','FP'], ['FN', 'TP']]\r\n",
        "for i in range(2):\r\n",
        "    for j in range(2):\r\n",
        "        plt.text(j,i, str(s[i][j])+\" = \"+str(cm[i][j]))\r\n",
        "plt.show()\r\n"
      ],
      "execution_count": 391,
      "outputs": [
        {
          "output_type": "stream",
          "text": [
            "0.946\n"
          ],
          "name": "stdout"
        },
        {
          "output_type": "display_data",
          "data": {
            "image/png": "[encoded data removed]",
            "text/plain": [
              "<Figure size 432x288 with 1 Axes>"
            ]
          },
          "metadata": {
            "tags": [],
            "needs_background": "light"
          }
        }
      ]
    },
    {
      "cell_type": "markdown",
      "metadata": {
        "id": "2dYz0qboVKRx"
      },
      "source": [
        "# Multi-Layer Perceptron"
      ]
    },
    {
      "cell_type": "code",
      "metadata": {
        "id": "E8Lev0H6VSFD",
        "colab": {
          "base_uri": "https://localhost:8080/",
          "height": 497
        },
        "outputId": "bf115598-4e71-40da-8381-c021acf7fbe5"
      },
      "source": [
        "from sklearn.neural_network import MLPClassifier\r\n",
        "mlp = MLPClassifier(random_state=1, max_iter=300).fit(X_train, y_train)\r\n",
        "mlp_predict=mlp.predict(X_test)\r\n",
        "#Actor_1= input(\"Actor Name        : \")\r\n",
        "#Actor_2= input(\"Actor Name        : \")\r\n",
        "#Actor_3= input(\"Actor Name        : \")\r\n",
        "#Actor_4= input(\"Actor Name        : \")\r\n",
        "#predict=[49,59,138,84]\r\n",
        "#predict=[\"Soha Ali\",\"Atif Aslam\",\"Fawad Khan\",\"Faisal Qureshi\"]\r\n",
        "#predict[0]=actor1.transform([predict[0]])\r\n",
        "#predict[1]=actor2.transform([predict[1]])\r\n",
        "#predict[2]=actor3.transform([predict[2]])\r\n",
        "#predict[3]=actor4.transform([predict[3]])\r\n",
        "#predict = scaler.transform(predict)\r\n",
        "#mlp.score(X_test,y_test)\r\n",
        "#prediction=mlp.predict(predict)\r\n",
        "#if prediction.all() == 1:\r\n",
        "#    print(\"HIT\")\r\n",
        "#else:\r\n",
        "#    print(\"FLOP\")\r\n",
        "\r\n",
        "mlp_predict=mlp.predict(X_test)\r\n",
        "#print(mlp.score(X_test,y_test))\r\n",
        "from sklearn.metrics import confusion_matrix\r\n",
        "predict_mlp=cross_val_predict(mlp,inputs,target,cv=10)\r\n",
        "cm = confusion_matrix(target, predict_mlp)\r\n",
        "#print(cm)\r\n",
        "score_mlp=cross_val_score(mlp,inputs,target,cv=10)\r\n",
        "print(score_mlp.mean())\r\n",
        "plt.clf()\r\n",
        "plt.imshow(cm, interpolation='nearest', cmap=plt.cm.Wistia)\r\n",
        "classNames = ['Negative','Positive']\r\n",
        "plt.title('Versicolor or Not Versicolor Confusion Matrix - Test Data')\r\n",
        "plt.ylabel('True label')\r\n",
        "plt.xlabel('Predicted label')\r\n",
        "tick_marks = np.arange(len(classNames))\r\n",
        "plt.xticks(tick_marks, classNames, rotation=45)\r\n",
        "plt.yticks(tick_marks, classNames)\r\n",
        "s = [['TN','FP'], ['FN', 'TP']]\r\n",
        "for i in range(2):\r\n",
        "    for j in range(2):\r\n",
        "        plt.text(j,i, str(s[i][j])+\" = \"+str(cm[i][j]))\r\n",
        "plt.show()"
      ],
      "execution_count": 385,
      "outputs": [
        {
          "output_type": "stream",
          "text": [
            "/usr/local/lib/python3.6/dist-packages/sklearn/neural_network/_multilayer_perceptron.py:571: ConvergenceWarning: Stochastic Optimizer: Maximum iterations (300) reached and the optimization hasn't converged yet.\n",
            "  % self.max_iter, ConvergenceWarning)\n",
            "/usr/local/lib/python3.6/dist-packages/sklearn/neural_network/_multilayer_perceptron.py:571: ConvergenceWarning: Stochastic Optimizer: Maximum iterations (300) reached and the optimization hasn't converged yet.\n",
            "  % self.max_iter, ConvergenceWarning)\n"
          ],
          "name": "stderr"
        },
        {
          "output_type": "stream",
          "text": [
            "[[481  23]\n",
            " [ 25 471]]\n",
            "0.952\n"
          ],
          "name": "stdout"
        },
        {
          "output_type": "stream",
          "text": [
            "/usr/local/lib/python3.6/dist-packages/sklearn/neural_network/_multilayer_perceptron.py:571: ConvergenceWarning: Stochastic Optimizer: Maximum iterations (300) reached and the optimization hasn't converged yet.\n",
            "  % self.max_iter, ConvergenceWarning)\n"
          ],
          "name": "stderr"
        },
        {
          "output_type": "display_data",
          "data": {
            "image/png": "[encoded data removed]",
            "text/plain": [
              "<Figure size 432x288 with 1 Axes>"
            ]
          },
          "metadata": {
            "tags": [],
            "needs_background": "light"
          }
        }
      ]
    },
    {
      "cell_type": "markdown",
      "metadata": {
        "id": "jMJq6F3TWyuu"
      },
      "source": [
        "# Decision Tree"
      ]
    },
    {
      "cell_type": "code",
      "metadata": {
        "id": "21rK-H4dW2KL",
        "colab": {
          "base_uri": "https://localhost:8080/",
          "height": 375
        },
        "outputId": "0f79c88f-27cb-4cab-bca7-a4369001d219"
      },
      "source": [
        "from sklearn.tree import DecisionTreeClassifier\r\n",
        "dtc = DecisionTreeClassifier(random_state=0)\r\n",
        "dtc.fit(X_train,y_train)\r\n",
        "#dtc.score(X_test,y_test)\r\n",
        "#Actor_1= input(\"Actor Name        : \")\r\n",
        "#Actor_2= input(\"Actor Name        : \")\r\n",
        "#Actor_3= input(\"Actor Name        : \")\r\n",
        "#Actor_4= input(\"Actor Name        : \")\r\n",
        "#predict=[49,59,138,84]\r\n",
        "#predict=[\"Soha Ali\",\"Atif Aslam\",\"Fawad Khan\",\"Faisal Qureshi\"]\r\n",
        "#predict[0]=actor1.transform([predict[0]])\r\n",
        "#predict[1]=actor2.transform([predict[1]])\r\n",
        "#predict[2]=actor3.transform([predict[2]])\r\n",
        "#predict[3]=actor4.transform([predict[3]])\r\n",
        "#predict = scaler.transform(predict)\r\n",
        "#dtc.score(X_test,y_test)\r\n",
        "#prediction=dtc.predict(predict)\r\n",
        "#if prediction.all() == 1:\r\n",
        "#    print(\"HIT\")\r\n",
        "#else:\r\n",
        "#    print(\"FLOP\")\r\n",
        "dtc_predict=dtc.predict(X_test)\r\n",
        "#print(dtc.score(X_test,y_test))\r\n",
        "from sklearn.metrics import confusion_matrix\r\n",
        "predict_dtc=cross_val_predict(dtc,inputs,target,cv=10)\r\n",
        "cm = confusion_matrix(target, predict_dtc)\r\n",
        "#print(cm)\r\n",
        "\r\n",
        "score_dtc=cross_val_score(dtc,inputs,target,cv=10)\r\n",
        "print(score_dtc.mean())\r\n",
        "plt.clf()\r\n",
        "plt.imshow(cm, interpolation='nearest', cmap=plt.cm.Wistia)\r\n",
        "classNames = ['Negative','Positive']\r\n",
        "plt.title('Versicolor or Not Versicolor Confusion Matrix - Test Data')\r\n",
        "plt.ylabel('True label')\r\n",
        "plt.xlabel('Predicted label')\r\n",
        "tick_marks = np.arange(len(classNames))\r\n",
        "plt.xticks(tick_marks, classNames, rotation=45)\r\n",
        "plt.yticks(tick_marks, classNames)\r\n",
        "s = [['TN','FP'], ['FN', 'TP']]\r\n",
        "for i in range(2):\r\n",
        "    for j in range(2):\r\n",
        "        plt.text(j,i, str(s[i][j])+\" = \"+str(cm[i][j]))\r\n",
        "plt.show()"
      ],
      "execution_count": 386,
      "outputs": [
        {
          "output_type": "stream",
          "text": [
            "[[469  35]\n",
            " [ 35 461]]\n",
            "0.93\n"
          ],
          "name": "stdout"
        },
        {
          "output_type": "display_data",
          "data": {
            "image/png": "[encoded data removed]",
            "text/plain": [
              "<Figure size 432x288 with 1 Axes>"
            ]
          },
          "metadata": {
            "tags": [],
            "needs_background": "light"
          }
        }
      ]
    },
    {
      "cell_type": "markdown",
      "metadata": {
        "id": "4otvJPa8X1RH"
      },
      "source": [
        "# K_Neighbours Classfier"
      ]
    },
    {
      "cell_type": "code",
      "metadata": {
        "id": "cxV1YPUgX0-T",
        "colab": {
          "base_uri": "https://localhost:8080/",
          "height": 341
        },
        "outputId": "98e9f7d3-aeae-4819-9ebd-18a1ec3a3e88"
      },
      "source": [
        " from sklearn.neighbors import KNeighborsClassifier\r\n",
        " from sklearn.model_selection import cross_val_predict\r\n",
        "neigh = KNeighborsClassifier(n_neighbors=3)\r\n",
        "neigh.fit(X_train, y_train)\r\n",
        "#Actor_1= input(\"Actor Name        : \")\r\n",
        "#Actor_2= input(\"Actor Name        : \")\r\n",
        "#Actor_3= input(\"Actor Name        : \")\r\n",
        "#Actor_4= input(\"Actor Name        : \")\r\n",
        "#predict=[49,59,138,84]\r\n",
        "#predict=[\"Soha Ali\",\"Atif Aslam\",\"Fawad Khan\",\"Faisal Qureshi\"]\r\n",
        "#redict[0]=actor1.transform([predict[0]])\r\n",
        "#predict[2]=actor3.transform([predict[2]])\r\n",
        "#predict[3]=actor4.transform([predict[3]])\r\n",
        "#predict = scaler.transform(predict)\r\n",
        "#print(neigh.score(X_test,y_test))\r\n",
        "#prediction=neigh.predict(predict)\r\n",
        "#if prediction.all() == 1:\r\n",
        "#    print(\"HIT\")\r\n",
        "#else:\r\n",
        "#    print(\"FLOP\")\r\n",
        "neigh_predict=neigh.predict(X_test)\r\n",
        "cross_neigh=cross_val_predict(neigh,inputs,target,cv=10)\r\n",
        "#print(cross_neigh)\r\n",
        "from sklearn.metrics import confusion_matrix\r\n",
        "\r\n",
        "cm = confusion_matrix(target, cross_neigh)\r\n",
        "#print(cm)\r\n",
        "score_neigh=cross_val_score(neigh,inputs,target,cv=5)\r\n",
        "print(score_neigh.mean())\r\n",
        "plt.clf()\r\n",
        "plt.imshow(cm, interpolation='nearest', cmap=plt.cm.Wistia)\r\n",
        "classNames = ['Negative','Positive']\r\n",
        "plt.title('Versicolor or Not Versicolor Confusion Matrix - Test Data')\r\n",
        "plt.ylabel('True label')\r\n",
        "plt.xlabel('Predicted label')\r\n",
        "tick_marks = np.arange(len(classNames))\r\n",
        "plt.xticks(tick_marks, classNames, rotation=45)\r\n",
        "plt.yticks(tick_marks, classNames)\r\n",
        "s = [['TN','FP'], ['FN', 'TP']]\r\n",
        "for i in range(2):\r\n",
        "    for j in range(2):\r\n",
        "        plt.text(j,i, str(s[i][j])+\" = \"+str(cm[i][j]))\r\n",
        "plt.show()"
      ],
      "execution_count": 392,
      "outputs": [
        {
          "output_type": "stream",
          "text": [
            "0.931\n"
          ],
          "name": "stdout"
        },
        {
          "output_type": "display_data",
          "data": {
            "image/png": "[encoded data removed]",
            "text/plain": [
              "<Figure size 432x288 with 1 Axes>"
            ]
          },
          "metadata": {
            "tags": [],
            "needs_background": "light"
          }
        }
      ]
    },
    {
      "cell_type": "code",
      "metadata": {
        "colab": {
          "base_uri": "https://localhost:8080/",
          "height": 299
        },
        "id": "XB3YViCOOVRJ",
        "outputId": "34fd573c-f638-4427-e9e2-a18a94fa8afc"
      },
      "source": [
        "import matplotlib.pyplot as plt\r\n",
        "hist=[score_neigh.mean(),score_dtc.mean(),score_mlp.mean(),score_svm.mean(),score_rfc.mean(),score_lr.mean(),score_nb.mean()]\r\n",
        "print(hist)\r\n",
        "plt.hist(hist,bins=10)\r\n",
        "plt.show\r\n"
      ],
      "execution_count": 393,
      "outputs": [
        {
          "output_type": "stream",
          "text": [
            "[0.931, 0.93, 0.952, 0.946, 0.504, 0.946, 0.7166666666666667]\n"
          ],
          "name": "stdout"
        },
        {
          "output_type": "execute_result",
          "data": {
            "text/plain": [
              "<function matplotlib.pyplot.show>"
            ]
          },
          "metadata": {
            "tags": []
          },
          "execution_count": 393
        },
        {
          "output_type": "display_data",
          "data": {
            "image/png": "[encoded data removed]",
            "text/plain": [
              "<Figure size 432x288 with 1 Axes>"
            ]
          },
          "metadata": {
            "tags": [],
            "needs_background": "light"
          }
        }
      ]
    },
    {
      "cell_type": "markdown",
      "metadata": {
        "id": "-gaOpl7jOVFy"
      },
      "source": [
        ""
      ]
    }
  ]
}